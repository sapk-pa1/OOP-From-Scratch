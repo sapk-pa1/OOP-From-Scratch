{
 "cells": [
  {
   "cell_type": "code",
   "execution_count": 1,
   "id": "b949782d",
   "metadata": {},
   "outputs": [],
   "source": [
    "class Myclass:\n",
    "    pass \n"
   ]
  },
  {
   "cell_type": "code",
   "execution_count": 2,
   "id": "d6480841",
   "metadata": {},
   "outputs": [],
   "source": [
    "m = Myclass()\n"
   ]
  },
  {
   "cell_type": "code",
   "execution_count": 3,
   "id": "7c1b9a22",
   "metadata": {},
   "outputs": [
    {
     "data": {
      "text/plain": [
       "True"
      ]
     },
     "execution_count": 3,
     "metadata": {},
     "output_type": "execute_result"
    }
   ],
   "source": [
    "type(m) == m.__class__"
   ]
  },
  {
   "cell_type": "code",
   "execution_count": 4,
   "id": "67825e80",
   "metadata": {},
   "outputs": [
    {
     "data": {
      "text/plain": [
       "__main__.Myclass"
      ]
     },
     "execution_count": 4,
     "metadata": {},
     "output_type": "execute_result"
    }
   ],
   "source": [
    "m.__class__"
   ]
  },
  {
   "cell_type": "code",
   "execution_count": 5,
   "id": "36974378",
   "metadata": {},
   "outputs": [],
   "source": [
    "class Myclass(): \n",
    "    __class__ = str "
   ]
  },
  {
   "cell_type": "code",
   "execution_count": 6,
   "id": "d6a57d84",
   "metadata": {},
   "outputs": [],
   "source": [
    "m = Myclass()"
   ]
  },
  {
   "cell_type": "code",
   "execution_count": 8,
   "id": "b6d021ae",
   "metadata": {},
   "outputs": [
    {
     "data": {
      "text/plain": [
       "str"
      ]
     },
     "execution_count": 8,
     "metadata": {},
     "output_type": "execute_result"
    }
   ],
   "source": [
    "m.__class__"
   ]
  },
  {
   "cell_type": "code",
   "execution_count": 9,
   "id": "3e7d6707",
   "metadata": {},
   "outputs": [
    {
     "data": {
      "text/plain": [
       "__main__.Myclass"
      ]
     },
     "execution_count": 9,
     "metadata": {},
     "output_type": "execute_result"
    }
   ],
   "source": [
    "type(m)"
   ]
  },
  {
   "cell_type": "code",
   "execution_count": 11,
   "id": "25cb73af",
   "metadata": {},
   "outputs": [
    {
     "data": {
      "text/plain": [
       "False"
      ]
     },
     "execution_count": 11,
     "metadata": {},
     "output_type": "execute_result"
    }
   ],
   "source": [
    "type(m) == m.__class__"
   ]
  },
  {
   "cell_type": "code",
   "execution_count": 12,
   "id": "f3c9df64",
   "metadata": {},
   "outputs": [],
   "source": [
    "# moral: developers can change these dundur method so , be careful while inspecting \n",
    "# the classes properties "
   ]
  },
  {
   "cell_type": "code",
   "execution_count": 14,
   "id": "41d2b5a3",
   "metadata": {},
   "outputs": [
    {
     "data": {
      "text/plain": [
       "True"
      ]
     },
     "execution_count": 14,
     "metadata": {},
     "output_type": "execute_result"
    }
   ],
   "source": [
    "isinstance(m, Myclass)"
   ]
  },
  {
   "cell_type": "code",
   "execution_count": 15,
   "id": "433d67d7",
   "metadata": {},
   "outputs": [
    {
     "data": {
      "text/plain": [
       "True"
      ]
     },
     "execution_count": 15,
     "metadata": {},
     "output_type": "execute_result"
    }
   ],
   "source": [
    "isinstance(m, str)"
   ]
  },
  {
   "cell_type": "code",
   "execution_count": 16,
   "id": "f0d0f3bb",
   "metadata": {},
   "outputs": [
    {
     "data": {
      "text/plain": [
       "False"
      ]
     },
     "execution_count": 16,
     "metadata": {},
     "output_type": "execute_result"
    }
   ],
   "source": [
    "isinstance(m, int)"
   ]
  },
  {
   "cell_type": "code",
   "execution_count": 17,
   "id": "f9252525",
   "metadata": {},
   "outputs": [],
   "source": [
    "# now lets not mess around with the dunder class \n",
    "class Myclass(): \n",
    "    pass "
   ]
  },
  {
   "cell_type": "code",
   "execution_count": 18,
   "id": "0c4d74fd",
   "metadata": {},
   "outputs": [],
   "source": [
    "m= Myclass()"
   ]
  },
  {
   "cell_type": "code",
   "execution_count": 19,
   "id": "4a382243",
   "metadata": {},
   "outputs": [
    {
     "data": {
      "text/plain": [
       "True"
      ]
     },
     "execution_count": 19,
     "metadata": {},
     "output_type": "execute_result"
    }
   ],
   "source": [
    "isinstance(m, Myclass)"
   ]
  },
  {
   "cell_type": "code",
   "execution_count": 20,
   "id": "f7156119",
   "metadata": {},
   "outputs": [
    {
     "data": {
      "text/plain": [
       "False"
      ]
     },
     "execution_count": 20,
     "metadata": {},
     "output_type": "execute_result"
    }
   ],
   "source": [
    "isinstance(m, str)"
   ]
  },
  {
   "cell_type": "code",
   "execution_count": 21,
   "id": "d837eca1",
   "metadata": {},
   "outputs": [
    {
     "data": {
      "text/plain": [
       "False"
      ]
     },
     "execution_count": 21,
     "metadata": {},
     "output_type": "execute_result"
    }
   ],
   "source": [
    "isinstance(m, int)"
   ]
  },
  {
   "cell_type": "code",
   "execution_count": null,
   "id": "0ba06221",
   "metadata": {},
   "outputs": [],
   "source": []
  }
 ],
 "metadata": {
  "kernelspec": {
   "display_name": "Python 3 (ipykernel)",
   "language": "python",
   "name": "python3"
  },
  "language_info": {
   "codemirror_mode": {
    "name": "ipython",
    "version": 3
   },
   "file_extension": ".py",
   "mimetype": "text/x-python",
   "name": "python",
   "nbconvert_exporter": "python",
   "pygments_lexer": "ipython3",
   "version": "3.11.2"
  }
 },
 "nbformat": 4,
 "nbformat_minor": 5
}
