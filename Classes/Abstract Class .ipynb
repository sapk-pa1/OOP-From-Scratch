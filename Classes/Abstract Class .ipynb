{
 "cells": [
  {
   "cell_type": "code",
   "execution_count": 1,
   "id": "d7925dfc",
   "metadata": {},
   "outputs": [],
   "source": [
    "from abc import ABC , abstractmethod "
   ]
  },
  {
   "cell_type": "code",
   "execution_count": 23,
   "id": "6234ba7e",
   "metadata": {},
   "outputs": [],
   "source": [
    "# abstract class as a template , a ghost class basically \n",
    "# abstract class prevents the users from creating the object of that class\n",
    "# -> Compels the user to override the abstact methods in the clild class \n",
    "# abstract class = a class which contains one or more abstract method \n",
    "# abstract method = a method that has a declaration but not an implementation "
   ]
  },
  {
   "cell_type": "code",
   "execution_count": 24,
   "id": "a43214a7",
   "metadata": {},
   "outputs": [],
   "source": [
    "class Vehicle : \n",
    "    def go (self): \n",
    "        pass "
   ]
  },
  {
   "cell_type": "code",
   "execution_count": 25,
   "id": "08dd6680",
   "metadata": {},
   "outputs": [],
   "source": [
    "class Car(Vehicle): \n",
    "    def go(self): \n",
    "        print(\"You Drive the Car\")"
   ]
  },
  {
   "cell_type": "code",
   "execution_count": 26,
   "id": "8124a740",
   "metadata": {},
   "outputs": [],
   "source": [
    "class MotorCycle(Vehicle): \n",
    "    def go(self): \n",
    "        print(\"You Drive the MotorCycle\")\n",
    "    "
   ]
  },
  {
   "cell_type": "code",
   "execution_count": 27,
   "id": "c1e7b431",
   "metadata": {},
   "outputs": [],
   "source": [
    "vehicle = Vehicle()\n",
    "car = Car()\n",
    "motorcycle = MotorCycle()"
   ]
  },
  {
   "cell_type": "code",
   "execution_count": 28,
   "id": "df779355",
   "metadata": {},
   "outputs": [],
   "source": [
    "vehicle.go()"
   ]
  },
  {
   "cell_type": "code",
   "execution_count": 29,
   "id": "421887a2",
   "metadata": {},
   "outputs": [
    {
     "name": "stdout",
     "output_type": "stream",
     "text": [
      "You Drive the Car\n"
     ]
    }
   ],
   "source": [
    "car.go()"
   ]
  },
  {
   "cell_type": "code",
   "execution_count": 30,
   "id": "1050f845",
   "metadata": {},
   "outputs": [
    {
     "name": "stdout",
     "output_type": "stream",
     "text": [
      "You Drive the MotorCycle\n"
     ]
    }
   ],
   "source": [
    "motorcycle.go()"
   ]
  },
  {
   "cell_type": "code",
   "execution_count": 31,
   "id": "98fc4882",
   "metadata": {},
   "outputs": [],
   "source": [
    "# the above are the simple implementation \n"
   ]
  },
  {
   "cell_type": "code",
   "execution_count": 32,
   "id": "9362b852",
   "metadata": {},
   "outputs": [],
   "source": [
    "from abc import ABC ,abstractmethod"
   ]
  },
  {
   "cell_type": "code",
   "execution_count": 51,
   "id": "90bda3d2",
   "metadata": {},
   "outputs": [],
   "source": [
    "class Vehicle(ABC): \n",
    "    @abstractmethod\n",
    "    def go(self): \n",
    "        pass "
   ]
  },
  {
   "cell_type": "code",
   "execution_count": 52,
   "id": "df23cc7b",
   "metadata": {},
   "outputs": [],
   "source": [
    "class Car(Vehicle): \n",
    "    def go(self): \n",
    "        print(\"You Drive the Car\")"
   ]
  },
  {
   "cell_type": "code",
   "execution_count": 53,
   "id": "a795e692",
   "metadata": {},
   "outputs": [],
   "source": [
    "class MotorCycle(Vehicle): \n",
    "    def go(self): \n",
    "        print(\"You Drive the MotorCycle\")\n",
    "    "
   ]
  },
  {
   "cell_type": "code",
   "execution_count": 54,
   "id": "b50c300a",
   "metadata": {},
   "outputs": [],
   "source": [
    "# vehicle = Vehicle() -> This will throw a TypeError : \n",
    "'''\n",
    "TypeError: Can't instantiate abstract class Vehicle with abstract method go\n",
    "\n",
    "'''\n",
    "car = Car()\n",
    "motorcycle = MotorCycle()"
   ]
  },
  {
   "cell_type": "code",
   "execution_count": 55,
   "id": "c1dc45d9",
   "metadata": {},
   "outputs": [],
   "source": [
    "# ok what's the point in creating the abstract class ? \n",
    "# well what python does is that if we don't implement the abstract methods in the python class then it will throw an error \n",
    "# basically abstract class work as a template for the child class "
   ]
  },
  {
   "cell_type": "code",
   "execution_count": 58,
   "id": "591fd809",
   "metadata": {},
   "outputs": [],
   "source": [
    "class Aeroplane(Vehicle): \n",
    "    pass "
   ]
  },
  {
   "cell_type": "code",
   "execution_count": 59,
   "id": "1265b841",
   "metadata": {},
   "outputs": [
    {
     "ename": "TypeError",
     "evalue": "Can't instantiate abstract class Aeroplane with abstract method go",
     "output_type": "error",
     "traceback": [
      "\u001b[1;31m---------------------------------------------------------------------------\u001b[0m",
      "\u001b[1;31mTypeError\u001b[0m                                 Traceback (most recent call last)",
      "Cell \u001b[1;32mIn[59], line 1\u001b[0m\n\u001b[1;32m----> 1\u001b[0m aero \u001b[38;5;241m=\u001b[39m \u001b[43mAeroplane\u001b[49m\u001b[43m(\u001b[49m\u001b[43m)\u001b[49m\n",
      "\u001b[1;31mTypeError\u001b[0m: Can't instantiate abstract class Aeroplane with abstract method go"
     ]
    }
   ],
   "source": [
    "aero = Aeroplane()"
   ]
  },
  {
   "cell_type": "code",
   "execution_count": 60,
   "id": "6e2fe4a3",
   "metadata": {},
   "outputs": [],
   "source": [
    "# here what has happened is that when the object is created  inheriting from the abstract class then the astract methodds should be\n",
    "# implemented otherwise it will throw an error "
   ]
  },
  {
   "cell_type": "code",
   "execution_count": 61,
   "id": "5878e073",
   "metadata": {},
   "outputs": [],
   "source": [
    "# ok what if we  don't provide the ABC as the parameter to the abstract class \n",
    "class Vehicle(): \n",
    "    @abstractmethod\n",
    "    def go(self): \n",
    "        pass "
   ]
  },
  {
   "cell_type": "code",
   "execution_count": 62,
   "id": "ef4e961a",
   "metadata": {},
   "outputs": [],
   "source": [
    "class Aeroplane(Vehicle): \n",
    "    pass "
   ]
  },
  {
   "cell_type": "code",
   "execution_count": 63,
   "id": "602d9b8f",
   "metadata": {},
   "outputs": [],
   "source": [
    "aero = Aeroplane()"
   ]
  },
  {
   "cell_type": "code",
   "execution_count": 64,
   "id": "e748e7e9",
   "metadata": {},
   "outputs": [],
   "source": [
    "# well it doesn't become the abstract method cause , its is not inheriting from the ABC which is an abstract class "
   ]
  },
  {
   "cell_type": "code",
   "execution_count": 65,
   "id": "4a1a8f1f",
   "metadata": {},
   "outputs": [
    {
     "name": "stdout",
     "output_type": "stream",
     "text": [
      "Help on class ABC in module abc:\n",
      "\n",
      "class ABC(builtins.object)\n",
      " |  Helper class that provides a standard way to create an ABC using\n",
      " |  inheritance.\n",
      " |  \n",
      " |  Data and other attributes defined here:\n",
      " |  \n",
      " |  __abstractmethods__ = frozenset()\n",
      "\n"
     ]
    }
   ],
   "source": [
    "help(ABC)"
   ]
  },
  {
   "cell_type": "code",
   "execution_count": null,
   "id": "25b1cab3",
   "metadata": {},
   "outputs": [],
   "source": []
  }
 ],
 "metadata": {
  "kernelspec": {
   "display_name": "Python 3 (ipykernel)",
   "language": "python",
   "name": "python3"
  },
  "language_info": {
   "codemirror_mode": {
    "name": "ipython",
    "version": 3
   },
   "file_extension": ".py",
   "mimetype": "text/x-python",
   "name": "python",
   "nbconvert_exporter": "python",
   "pygments_lexer": "ipython3",
   "version": "3.11.2"
  }
 },
 "nbformat": 4,
 "nbformat_minor": 5
}
